{
 "cells": [
  {
   "cell_type": "code",
   "execution_count": 1,
   "metadata": {},
   "outputs": [],
   "source": [
    "import requests\n",
    "import re\n",
    "import urllib\n",
    "import time\n",
    "import csv\n",
    "import json\n",
    "import pandas as pd\n",
    "import datetime\n",
    "import time\n",
    "import urllib.request\n",
    "import os\n",
    "from dateutil.relativedelta import relativedelta\n",
    "import holidays # pip install holidays\n",
    "import numpy as np\n",
    "import glob"
   ]
  },
  {
   "cell_type": "code",
   "execution_count": 2,
   "metadata": {},
   "outputs": [],
   "source": [
    "#реальные ЧПН по АТС   \n",
    "outfolder = 'DATA/ATSPeak/Krasnodar' #папка для сохранения данных\n",
    "jsurlbase = 'http://www.atsenergo.ru/dload/calcfacthour_regions/' #адрес запроса\n",
    "dt0 = datetime.datetime(2019,1,1,0,0) #начальная дата\n",
    "dtend = datetime.datetime(2019,2,1,0,0) #конечная дата\n",
    "os.makedirs(outfolder, exist_ok=True) #создание директории\n",
    "dt = dt0\n",
    "comp='KUBANESK' #код сбытовой компании\n",
    "lst_dt = None\n",
    "OKATO='03'"
   ]
  },
  {
   "cell_type": "code",
   "execution_count": 4,
   "metadata": {},
   "outputs": [
    {
     "data": {
      "text/plain": [
       "'201901_KUBANESK_03_calcfacthour.xls'"
      ]
     },
     "execution_count": 4,
     "metadata": {},
     "output_type": "execute_result"
    }
   ],
   "source": [
    "f1 = str(dt.year) + str(dt.month).zfill(2)\n",
    "f2 = str(OKATO).zfill(2) + '_calcfacthour.xls'\n",
    "file_name = f1 + '_' + comp + '_' + f2\n",
    "file_name"
   ]
  },
  {
   "cell_type": "code",
   "execution_count": 4,
   "metadata": {},
   "outputs": [
    {
     "data": {
      "text/plain": [
       "'http://www.atsenergo.ru/dload/calcfacthour_regions/201901_KUBANESK_03_calcfacthour.xls'"
      ]
     },
     "execution_count": 4,
     "metadata": {},
     "output_type": "execute_result"
    }
   ],
   "source": [
    "d=jsurlbase + f1 + '_' + comp + '_' + f2\n",
    "d"
   ]
  },
  {
   "cell_type": "code",
   "execution_count": 5,
   "metadata": {},
   "outputs": [
    {
     "data": {
      "text/plain": [
       "('DATA/ATSPeak/Krasnodar/201901_KUBANESK_03_calcfacthour.xls',\n",
       " <http.client.HTTPMessage at 0x2720aae1190>)"
      ]
     },
     "execution_count": 5,
     "metadata": {},
     "output_type": "execute_result"
    }
   ],
   "source": [
    "urllib.request.urlretrieve(d,'DATA/ATSPeak/Krasnodar/' + file_name)"
   ]
  },
  {
   "cell_type": "code",
   "execution_count": 40,
   "metadata": {},
   "outputs": [
    {
     "name": "stdout",
     "output_type": "stream",
     "text": [
      "2012-03-05 01:30:00\n"
     ]
    }
   ],
   "source": [
    "from datetime import datetime\n",
    "x=datetime.combine(datetime.strptime(\"5 Mar 12\", \"%d %b %y\"), datetime.strptime(\"0130\",\"%H%M\").time())\n",
    "print(x)"
   ]
  },
  {
   "cell_type": "code",
   "execution_count": 6,
   "metadata": {},
   "outputs": [
    {
     "data": {
      "text/html": [
       "<div>\n",
       "<style scoped>\n",
       "    .dataframe tbody tr th:only-of-type {\n",
       "        vertical-align: middle;\n",
       "    }\n",
       "\n",
       "    .dataframe tbody tr th {\n",
       "        vertical-align: top;\n",
       "    }\n",
       "\n",
       "    .dataframe thead th {\n",
       "        text-align: right;\n",
       "    }\n",
       "</style>\n",
       "<table border=\"1\" class=\"dataframe\">\n",
       "  <thead>\n",
       "    <tr style=\"text-align: right;\">\n",
       "      <th></th>\n",
       "      <th>timestamp</th>\n",
       "      <th>Peak_hour</th>\n",
       "    </tr>\n",
       "  </thead>\n",
       "  <tbody>\n",
       "    <tr>\n",
       "      <th>0</th>\n",
       "      <td>2019-01-09</td>\n",
       "      <td>19:00:00</td>\n",
       "    </tr>\n",
       "    <tr>\n",
       "      <th>1</th>\n",
       "      <td>2019-01-10</td>\n",
       "      <td>19:00:00</td>\n",
       "    </tr>\n",
       "    <tr>\n",
       "      <th>2</th>\n",
       "      <td>2019-01-11</td>\n",
       "      <td>19:00:00</td>\n",
       "    </tr>\n",
       "    <tr>\n",
       "      <th>3</th>\n",
       "      <td>2019-01-14</td>\n",
       "      <td>19:00:00</td>\n",
       "    </tr>\n",
       "    <tr>\n",
       "      <th>4</th>\n",
       "      <td>2019-01-15</td>\n",
       "      <td>19:00:00</td>\n",
       "    </tr>\n",
       "    <tr>\n",
       "      <th>5</th>\n",
       "      <td>2019-01-16</td>\n",
       "      <td>19:00:00</td>\n",
       "    </tr>\n",
       "    <tr>\n",
       "      <th>6</th>\n",
       "      <td>2019-01-17</td>\n",
       "      <td>19:00:00</td>\n",
       "    </tr>\n",
       "    <tr>\n",
       "      <th>7</th>\n",
       "      <td>2019-01-18</td>\n",
       "      <td>19:00:00</td>\n",
       "    </tr>\n",
       "    <tr>\n",
       "      <th>8</th>\n",
       "      <td>2019-01-21</td>\n",
       "      <td>19:00:00</td>\n",
       "    </tr>\n",
       "    <tr>\n",
       "      <th>9</th>\n",
       "      <td>2019-01-22</td>\n",
       "      <td>19:00:00</td>\n",
       "    </tr>\n",
       "    <tr>\n",
       "      <th>10</th>\n",
       "      <td>2019-01-23</td>\n",
       "      <td>19:00:00</td>\n",
       "    </tr>\n",
       "    <tr>\n",
       "      <th>11</th>\n",
       "      <td>2019-01-24</td>\n",
       "      <td>19:00:00</td>\n",
       "    </tr>\n",
       "    <tr>\n",
       "      <th>12</th>\n",
       "      <td>2019-01-25</td>\n",
       "      <td>19:00:00</td>\n",
       "    </tr>\n",
       "    <tr>\n",
       "      <th>13</th>\n",
       "      <td>2019-01-28</td>\n",
       "      <td>20:00:00</td>\n",
       "    </tr>\n",
       "    <tr>\n",
       "      <th>14</th>\n",
       "      <td>2019-01-29</td>\n",
       "      <td>19:00:00</td>\n",
       "    </tr>\n",
       "    <tr>\n",
       "      <th>15</th>\n",
       "      <td>2019-01-30</td>\n",
       "      <td>20:00:00</td>\n",
       "    </tr>\n",
       "    <tr>\n",
       "      <th>16</th>\n",
       "      <td>2019-01-31</td>\n",
       "      <td>20:00:00</td>\n",
       "    </tr>\n",
       "  </tbody>\n",
       "</table>\n",
       "</div>"
      ],
      "text/plain": [
       "     timestamp Peak_hour\n",
       "0   2019-01-09  19:00:00\n",
       "1   2019-01-10  19:00:00\n",
       "2   2019-01-11  19:00:00\n",
       "3   2019-01-14  19:00:00\n",
       "4   2019-01-15  19:00:00\n",
       "5   2019-01-16  19:00:00\n",
       "6   2019-01-17  19:00:00\n",
       "7   2019-01-18  19:00:00\n",
       "8   2019-01-21  19:00:00\n",
       "9   2019-01-22  19:00:00\n",
       "10  2019-01-23  19:00:00\n",
       "11  2019-01-24  19:00:00\n",
       "12  2019-01-25  19:00:00\n",
       "13  2019-01-28  20:00:00\n",
       "14  2019-01-29  19:00:00\n",
       "15  2019-01-30  20:00:00\n",
       "16  2019-01-31  20:00:00"
      ]
     },
     "execution_count": 6,
     "metadata": {},
     "output_type": "execute_result"
    }
   ],
   "source": [
    "dt = pd.read_excel('DATA/ATSPeak/Krasnodar/' + file_name, usecols=\"A:B\", skiprows=7,nrows=25, names = ['timestamp','Peak_hour'], parse_dates=True)\n",
    "dt[\"timestamp\"]=pd.to_datetime(dt[\"timestamp\"],format='%d.%M.%Y').dt.date\n",
    "dt[\"Peak_hour\"]=pd.to_datetime(dt[\"Peak_hour\"], format='%H').dt.time\n",
    "pd.to_datetime(dt[\"timestamp\"].astype(str) + ' ' + dt[\"Peak_hour\"].astype(str))\n",
    "dt"
   ]
  },
  {
   "cell_type": "code",
   "execution_count": null,
   "metadata": {},
   "outputs": [],
   "source": []
  },
  {
   "cell_type": "code",
   "execution_count": null,
   "metadata": {},
   "outputs": [],
   "source": []
  },
  {
   "cell_type": "code",
   "execution_count": 14,
   "metadata": {},
   "outputs": [
    {
     "ename": "PermissionError",
     "evalue": "[Errno 13] Permission denied: 'DATA/ATSPeak/Krasnodar/'",
     "output_type": "error",
     "traceback": [
      "\u001b[1;31m---------------------------------------------------------------------------\u001b[0m",
      "\u001b[1;31mPermissionError\u001b[0m                           Traceback (most recent call last)",
      "\u001b[1;32m<ipython-input-14-8d7244846f3f>\u001b[0m in \u001b[0;36m<module>\u001b[1;34m\u001b[0m\n\u001b[1;32m----> 1\u001b[1;33m urllib.request.urlretrieve(jsurlbase + f1 + '_' + comp + '_' + f2,\n\u001b[0m\u001b[0;32m      2\u001b[0m                                            outfolder)\n",
      "\u001b[1;32m~\\miniconda3\\lib\\urllib\\request.py\u001b[0m in \u001b[0;36murlretrieve\u001b[1;34m(url, filename, reporthook, data)\u001b[0m\n\u001b[0;32m    255\u001b[0m         \u001b[1;31m# Handle temporary file setup.\u001b[0m\u001b[1;33m\u001b[0m\u001b[1;33m\u001b[0m\u001b[1;33m\u001b[0m\u001b[0m\n\u001b[0;32m    256\u001b[0m         \u001b[1;32mif\u001b[0m \u001b[0mfilename\u001b[0m\u001b[1;33m:\u001b[0m\u001b[1;33m\u001b[0m\u001b[1;33m\u001b[0m\u001b[0m\n\u001b[1;32m--> 257\u001b[1;33m             \u001b[0mtfp\u001b[0m \u001b[1;33m=\u001b[0m \u001b[0mopen\u001b[0m\u001b[1;33m(\u001b[0m\u001b[0mfilename\u001b[0m\u001b[1;33m,\u001b[0m \u001b[1;34m'wb'\u001b[0m\u001b[1;33m)\u001b[0m\u001b[1;33m\u001b[0m\u001b[1;33m\u001b[0m\u001b[0m\n\u001b[0m\u001b[0;32m    258\u001b[0m         \u001b[1;32melse\u001b[0m\u001b[1;33m:\u001b[0m\u001b[1;33m\u001b[0m\u001b[1;33m\u001b[0m\u001b[0m\n\u001b[0;32m    259\u001b[0m             \u001b[0mtfp\u001b[0m \u001b[1;33m=\u001b[0m \u001b[0mtempfile\u001b[0m\u001b[1;33m.\u001b[0m\u001b[0mNamedTemporaryFile\u001b[0m\u001b[1;33m(\u001b[0m\u001b[0mdelete\u001b[0m\u001b[1;33m=\u001b[0m\u001b[1;32mFalse\u001b[0m\u001b[1;33m)\u001b[0m\u001b[1;33m\u001b[0m\u001b[1;33m\u001b[0m\u001b[0m\n",
      "\u001b[1;31mPermissionError\u001b[0m: [Errno 13] Permission denied: 'DATA/ATSPeak/Krasnodar/'"
     ]
    }
   ],
   "source": [
    "urllib.request.urlretrieve(jsurlbase + f1 + '_' + comp + '_' + f2,\n",
    "                                           outfolder)"
   ]
  },
  {
   "cell_type": "code",
   "execution_count": 3,
   "metadata": {},
   "outputs": [],
   "source": [
    "\n",
    "\n",
    "    while (dt < dtend):\n",
    "        f1 = str(dt.year) + str(dt.month).zfill(2)\n",
    "        f2 = str(region_code).zfill(2) + '_calcfacthour.xls'\n",
    "        print('downloading for ' + str(dt) + '...')\n",
    "        downloaded = False\n",
    "            try:\n",
    "                urllib.request.urlretrieve(jsurlbase + f1 + '_' + comp + '_' + f2,\n",
    "                                           outfolder + f1 + '_' + f2)\n",
    "                downloaded = True\n",
    "                break\n",
    "            except (urllib.error.HTTPError):\n",
    "                pass\n",
    "        if not downloaded:\n",
    "            print('Not found')\n",
    "            if lst_dt is None:\n",
    "                lst_dt = dt\n",
    "\n",
    "\n",
    "        time.sleep(1)\n",
    "\n",
    "        # dt = dt + relativedelta(years=1)\n",
    "        dt = dt + relativedelta(months=1)"
   ]
  },
  {
   "cell_type": "code",
   "execution_count": null,
   "metadata": {},
   "outputs": [],
   "source": [
    "dt.head(10)"
   ]
  },
  {
   "cell_type": "code",
   "execution_count": null,
   "metadata": {},
   "outputs": [],
   "source": [
    "https://www.atsenergo.ru/dload/calcfacthour_regions/202203_KUBANESK_03_calcfacthour.xls"
   ]
  },
  {
   "cell_type": "code",
   "execution_count": null,
   "metadata": {},
   "outputs": [],
   "source": []
  }
 ],
 "metadata": {
  "kernelspec": {
   "display_name": "Python 3",
   "language": "python",
   "name": "python3"
  },
  "language_info": {
   "codemirror_mode": {
    "name": "ipython",
    "version": 3
   },
   "file_extension": ".py",
   "mimetype": "text/x-python",
   "name": "python",
   "nbconvert_exporter": "python",
   "pygments_lexer": "ipython3",
   "version": "3.8.3"
  }
 },
 "nbformat": 4,
 "nbformat_minor": 4
}
